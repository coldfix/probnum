{
 "cells": [
  {
   "cell_type": "markdown",
   "metadata": {},
   "source": [
    "# Examples\n",
    "\n",
    "Below we illustrate some basic usage of `probnum`. We begin by creating random variables, the main objects used as in- and outputs of probabilistic numerical methods."
   ]
  },
  {
   "cell_type": "markdown",
   "metadata": {},
   "source": [
    "## Random Variables and Linear Operators"
   ]
  },
  {
   "cell_type": "code",
   "execution_count": 1,
   "metadata": {},
   "outputs": [
    {
     "name": "stdout",
     "output_type": "stream",
     "text": [
      "<() RandomVariable with dtype=<class 'float'>>\n"
     ]
    },
    {
     "data": {
      "text/plain": [
       "array([[ 0.99342831, -0.2765286 ,  1.29537708],\n",
       "       [ 3.04605971, -0.46830675, -0.46827391]])"
      ]
     },
     "execution_count": 1,
     "metadata": {},
     "output_type": "execute_result"
    }
   ],
   "source": [
    "\"\"\"\n",
    "Instantiate and manipulate random variables and linear operators.\n",
    "\"\"\"\n",
    "import numpy as np\n",
    "from probnum.probability import RandomVariable, Normal\n",
    "\n",
    "# Seed\n",
    "np.random.seed(42)\n",
    "\n",
    "# Gaussian random variable\n",
    "X = RandomVariable(distribution=Normal(mean=0.5, cov=1))\n",
    "\n",
    "# Arithmetic operations between scalars and random variables\n",
    "Y = 2 * X - 1\n",
    "print(Y)\n",
    "\n",
    "# Samples / realizations\n",
    "Y.sample(size=(2, 3))"
   ]
  },
  {
   "cell_type": "code",
   "execution_count": 2,
   "metadata": {},
   "outputs": [
    {
     "name": "stdout",
     "output_type": "stream",
     "text": [
      "<(2,) RandomVariable with dtype=<class 'float'>>\n"
     ]
    },
    {
     "data": {
      "text/plain": [
       "array([[-3.12837959, -1.8451091 ],\n",
       "       [ 6.37960911, 10.39528139],\n",
       "       [ 7.70884096,  9.35659646]])"
      ]
     },
     "execution_count": 2,
     "metadata": {},
     "output_type": "execute_result"
    }
   ],
   "source": [
    "# Arithmetic operations between matrices and random variables\n",
    "A = np.array([[1, 2], \n",
    "              [3, 2]])\n",
    "X = RandomVariable(distribution=Normal(mean=np.array([1, 2]), cov=np.array([[2, 0], \n",
    "                                                                            [0, 5]])))\n",
    "Y = A @ X\n",
    "\n",
    "print(Y)\n",
    "Y.sample(size=3)"
   ]
  },
  {
   "cell_type": "code",
   "execution_count": 7,
   "metadata": {
    "scrolled": false
   },
   "outputs": [
    {
     "name": "stdout",
     "output_type": "stream",
     "text": [
      "<(2,) RandomVariable with dtype=<class 'float'>>\n"
     ]
    },
    {
     "data": {
      "text/plain": [
       "array([[[ 7.01707441, 14.19400815],\n",
       "        [ 5.5404421 , 12.69569096]],\n",
       "\n",
       "       [[-3.88312865, -7.62349784],\n",
       "        [ 3.83845463,  8.43283096]],\n",
       "\n",
       "       [[13.95757001, 29.98245179],\n",
       "        [ 3.43087185, 11.01075812]]])"
      ]
     },
     "execution_count": 7,
     "metadata": {},
     "output_type": "execute_result"
    }
   ],
   "source": [
    "from probnum.linalg import aslinop\n",
    "\n",
    "# Linear operators applied to random variables\n",
    "A = aslinop(np.array([[1, 2], \n",
    "                      [3, 4]]))\n",
    "Y = A @ X\n",
    "\n",
    "print(Y)\n",
    "Y.sample(size=(3,2))"
   ]
  },
  {
   "cell_type": "code",
   "execution_count": null,
   "metadata": {},
   "outputs": [],
   "source": [
    "# Matrix-variate normal distribution"
   ]
  },
  {
   "cell_type": "code",
   "execution_count": 4,
   "metadata": {},
   "outputs": [],
   "source": [
    "# Linear operators _as_ random variables"
   ]
  },
  {
   "cell_type": "markdown",
   "metadata": {},
   "source": [
    "## Linear Systems"
   ]
  },
  {
   "cell_type": "code",
   "execution_count": 5,
   "metadata": {},
   "outputs": [
    {
     "ename": "ValueError",
     "evalue": "Cannot instantiate normal distribution with mean of type ndarray and covariance of type NoneType.",
     "output_type": "error",
     "traceback": [
      "\u001b[0;31m---------------------------------------------------------------------------\u001b[0m",
      "\u001b[0;31mValueError\u001b[0m                                Traceback (most recent call last)",
      "\u001b[0;32m<ipython-input-5-8e3174b6dc92>\u001b[0m in \u001b[0;36m<module>\u001b[0;34m\u001b[0m\n\u001b[1;32m     13\u001b[0m A = RandomVariable(shape=A.shape, \n\u001b[1;32m     14\u001b[0m                    \u001b[0mdtype\u001b[0m\u001b[0;34m=\u001b[0m\u001b[0mA\u001b[0m\u001b[0;34m.\u001b[0m\u001b[0mdtype\u001b[0m\u001b[0;34m,\u001b[0m\u001b[0;34m\u001b[0m\u001b[0;34m\u001b[0m\u001b[0m\n\u001b[0;32m---> 15\u001b[0;31m                    distribution=Normal(mean=A, cov=covA))\n\u001b[0m\u001b[1;32m     16\u001b[0m \u001b[0;34m\u001b[0m\u001b[0m\n\u001b[1;32m     17\u001b[0m \u001b[0;31m# Probabilistic linear solver\u001b[0m\u001b[0;34m\u001b[0m\u001b[0;34m\u001b[0m\u001b[0;34m\u001b[0m\u001b[0m\n",
      "\u001b[0;32m~/Documents/research/probabilistic_numerics/code/probnum/src/probnum/probability.py\u001b[0m in \u001b[0;36m__init__\u001b[0;34m(self, mean, cov, random_state)\u001b[0m\n\u001b[1;32m    992\u001b[0m             raise ValueError(\n\u001b[1;32m    993\u001b[0m                 \"Cannot instantiate normal distribution with mean of type {} and covariance of type {}.\".format(\n\u001b[0;32m--> 994\u001b[0;31m                     mean.__class__.__name__, cov.__class__.__name__))\n\u001b[0m\u001b[1;32m    995\u001b[0m \u001b[0;34m\u001b[0m\u001b[0m\n\u001b[1;32m    996\u001b[0m     \u001b[0;31m# TODO: implement (more efficient) versions of these functions (for linear operators)\u001b[0m\u001b[0;34m\u001b[0m\u001b[0;34m\u001b[0m\u001b[0;34m\u001b[0m\u001b[0m\n",
      "\u001b[0;31mValueError\u001b[0m: Cannot instantiate normal distribution with mean of type ndarray and covariance of type NoneType."
     ]
    }
   ],
   "source": [
    "\"\"\"\n",
    "Create and solve linear systems using a probabilistic linear solver.\n",
    "\"\"\"\n",
    "from probnum.linalg import problinsolve\n",
    "\n",
    "# Linear system\n",
    "A = np.random.rand(10, 10)\n",
    "A = A.dot(A.T) + 10 * np.eye(10) # Symmetrize and make diagonally dominant\n",
    "b = np.random.rand(10, 1)\n",
    "\n",
    "# Prior distribution on A\n",
    "covA = None\n",
    "A = RandomVariable(shape=A.shape, \n",
    "                   dtype=A.dtype, \n",
    "                   distribution=Normal(mean=A, cov=covA))\n",
    "\n",
    "# Probabilistic linear solver\n",
    "x, A, Ainv, info = problinsolve(A=A, b=b)\n",
    "\n",
    "# Plot resulting distribution on x, A and Ainv"
   ]
  },
  {
   "cell_type": "markdown",
   "metadata": {},
   "source": [
    "## Discretized Differential Equations"
   ]
  },
  {
   "cell_type": "code",
   "execution_count": null,
   "metadata": {},
   "outputs": [],
   "source": [
    "\"\"\"\n",
    "Specify a discretized differential equation as a linear operator and solve it.\n",
    "\"\"\""
   ]
  },
  {
   "cell_type": "code",
   "execution_count": null,
   "metadata": {},
   "outputs": [],
   "source": [
    "\"\"\"\n",
    "Solve multiple systems with previous posterior as a prior.\n",
    "\"\"\""
   ]
  }
 ],
 "metadata": {
  "kernelspec": {
   "display_name": "probnum_kernel",
   "language": "python",
   "name": "probnum_kernel"
  },
  "language_info": {
   "codemirror_mode": {
    "name": "ipython",
    "version": 3
   },
   "file_extension": ".py",
   "mimetype": "text/x-python",
   "name": "python",
   "nbconvert_exporter": "python",
   "pygments_lexer": "ipython3",
   "version": "3.6.8"
  },
  "stem_cell": {
   "cell_type": "raw",
   "metadata": {
    "pycharm": {
     "metadata": false
    }
   },
   "source": "\n"
  }
 },
 "nbformat": 4,
 "nbformat_minor": 1
}
