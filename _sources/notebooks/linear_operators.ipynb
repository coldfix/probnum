{
 "cells": [
  {
   "cell_type": "markdown",
   "metadata": {},
   "source": [
    "# Linear Operators\n",
    "\n",
    "Finite dimensional linear operators allow matrix algebra without explicitly constructing a full representation. Instead it suffices to define a matrix-vector product and a shape attribute. This avoids unnecessary memory usage and can often be more convenient to derive."
   ]
  },
  {
   "cell_type": "markdown",
   "metadata": {},
   "source": [
    "## Sparse Arrays"
   ]
  },
  {
   "cell_type": "code",
   "execution_count": 1,
   "metadata": {},
   "outputs": [
    {
     "data": {
      "image/png": "[encoded data removed]",
      "text/plain": [
       "<Figure size 288x288 with 1 Axes>"
      ]
     },
     "metadata": {
      "needs_background": "light"
     },
     "output_type": "display_data"
    }
   ],
   "source": [
    "# Plotting\n",
    "%matplotlib inline\n",
    "import matplotlib.pyplot as plt\n",
    "#plt.rcParams['figure.figsize'] = [9.5, 6]\n",
    "plt.rcParams['font.size'] = 18 \n",
    "plt.rcParams['text.usetex'] = True\n",
    "# Imports\n",
    "import numpy as np\n",
    "import scipy.sparse\n",
    "from probnum.linalg.linear_operators import MatrixMult, Identity\n",
    "\n",
    "# Linear operator from sparse matrix\n",
    "n = 10\n",
    "mat = scipy.sparse.rand(m=n, n=n, density=0.1)\n",
    "A = MatrixMult(A=mat)\n",
    "\n",
    "# Plot\n",
    "fig, axes = plt.subplots(nrows=1, ncols=1, figsize=(4, 4))\n",
    "axes.imshow(A.todense())\n",
    "axes.set_axis_off()\n",
    "axes.title.set_text('$A$')\n",
    "fig.tight_layout()"
   ]
  },
  {
   "cell_type": "markdown",
   "metadata": {},
   "source": [
    "## Basic Arithmetic"
   ]
  },
  {
   "cell_type": "code",
   "execution_count": 7,
   "metadata": {},
   "outputs": [
    {
     "data": {
      "image/png": "[encoded data removed]",
      "text/plain": [
       "<Figure size 288x288 with 1 Axes>"
      ]
     },
     "metadata": {
      "needs_background": "light"
     },
     "output_type": "display_data"
    }
   ],
   "source": [
    "# Linear operator arithmetic\n",
    "Id = Identity(shape=n)\n",
    "B = MatrixMult(A=mat) + 3 * Id\n",
    "\n",
    "# Plot\n",
    "fig, axes = plt.subplots(nrows=1, ncols=1, figsize=(4, 4))\n",
    "axes.imshow(B.todense())\n",
    "axes.set_axis_off()\n",
    "axes.title.set_text('$B$')\n",
    "fig.tight_layout()"
   ]
  },
  {
   "cell_type": "markdown",
   "metadata": {},
   "source": [
    "## The Kronecker Product"
   ]
  },
  {
   "cell_type": "code",
   "execution_count": 3,
   "metadata": {},
   "outputs": [
    {
     "data": {
      "image/png": "[encoded data removed]",
      "text/plain": [
       "<Figure size 864x216 with 4 Axes>"
      ]
     },
     "metadata": {
      "needs_background": "light"
     },
     "output_type": "display_data"
    }
   ],
   "source": [
    "from probnum.linalg.linear_operators import Kronecker, SymmetricKronecker\n",
    "\n",
    "# Kronecker Product\n",
    "A = np.array([[4, 1, 4], \n",
    "              [2, 3, 2]])\n",
    "B = np.array([[1, 4]])\n",
    "W = Kronecker(A, B)\n",
    "V = Kronecker(B, A)\n",
    "\n",
    "# TODO: declare a plotting function and reuse for Symmetric Kronecker product\n",
    "# Heatmap scale\n",
    "W_dense = W.todense()\n",
    "V_dense = V.todense()\n",
    "vmin = np.min([np.min(mat) for mat in [A, B, W_dense, V_dense]])\n",
    "vmax = np.max([np.max(mat) for mat in [A, B, W_dense, V_dense]])\n",
    "\n",
    "# Plot\n",
    "fig, axes = plt.subplots(nrows=1, ncols=4, figsize=(12, 3), gridspec_kw={'width_ratios': [1, 1, 2, 2]})\n",
    "axes[0].imshow(A, vmin=vmin, vmax=vmax)\n",
    "axes[0].set_axis_off()\n",
    "axes[0].title.set_text('$A$')\n",
    "axes[1].imshow(B, vmin=vmin, vmax=vmax)\n",
    "axes[1].set_axis_off()\n",
    "axes[1].title.set_text('$B$')\n",
    "axes[2].imshow(W_dense, vmin=vmin, vmax=vmax)\n",
    "axes[2].set_axis_off()\n",
    "axes[2].title.set_text('$A \\otimes B$')\n",
    "axes[3].imshow(V_dense, vmin=vmin, vmax=vmax)\n",
    "axes[3].set_axis_off()\n",
    "axes[3].title.set_text('$B \\otimes A$')\n",
    "fig.tight_layout()"
   ]
  },
  {
   "cell_type": "code",
   "execution_count": 4,
   "metadata": {
    "scrolled": false
   },
   "outputs": [
    {
     "data": {
      "image/png": "[encoded data removed]",
      "text/plain": [
       "<Figure size 576x216 with 4 Axes>"
      ]
     },
     "metadata": {
      "needs_background": "light"
     },
     "output_type": "display_data"
    }
   ],
   "source": [
    "# Symmetric Kronecker Product\n",
    "C = np.array([[5, 1], \n",
    "              [2, 10]])\n",
    "D = np.array([[1, 2], \n",
    "              [3, 4]])\n",
    "Ws = SymmetricKronecker(C, D)\n",
    "Vs = SymmetricKronecker(D, C)\n",
    "\n",
    "# Heatmap scale\n",
    "Ws_dense = Ws.todense()\n",
    "Vs_dense = Vs.todense()\n",
    "vmin = np.min([np.min(mat) for mat in [C, D, Ws_dense, Vs_dense]])\n",
    "vmax = np.max([np.max(mat) for mat in [C, D, Ws_dense, Vs_dense]])\n",
    "\n",
    "# Plot\n",
    "fig, axes = plt.subplots(nrows=1, ncols=4, figsize=(8, 3), gridspec_kw={'width_ratios': [1, 1, 2, 2]})\n",
    "axes[0].imshow(C, vmin=vmin, vmax=vmax)\n",
    "axes[0].set_axis_off()\n",
    "axes[0].title.set_text('$C$')\n",
    "axes[1].imshow(D, vmin=vmin, vmax=vmax)\n",
    "axes[1].set_axis_off()\n",
    "axes[1].title.set_text('$D$')\n",
    "axes[2].imshow(Ws_dense, vmin=vmin, vmax=vmax)\n",
    "axes[2].set_axis_off()\n",
    "axes[2].title.set_text('$C \\otimes_s D$')\n",
    "axes[3].imshow(Vs_dense, vmin=vmin, vmax=vmax)\n",
    "axes[3].set_axis_off()\n",
    "axes[3].title.set_text('$D \\otimes_s C$')\n",
    "fig.tight_layout()"
   ]
  },
  {
   "cell_type": "markdown",
   "metadata": {},
   "source": [
    "Note, that the symmetric Kronecker product generally does **not** have a **symmetric** matrix representation. It is the case if its arguments are symmetric. But, as we can see above its arguments commute."
   ]
  },
  {
   "cell_type": "markdown",
   "metadata": {},
   "source": [
    "## Linear Operators and Linear Solvers\n",
    "\n",
    "Many methods implemented in `probnum.linalg` can also take `LinearOperators` as inputs."
   ]
  },
  {
   "cell_type": "code",
   "execution_count": null,
   "metadata": {},
   "outputs": [],
   "source": []
  }
 ],
 "metadata": {
  "kernelspec": {
   "display_name": "probnum_kernel",
   "language": "python",
   "name": "probnum_kernel"
  },
  "language_info": {
   "codemirror_mode": {
    "name": "ipython",
    "version": 3
   },
   "file_extension": ".py",
   "mimetype": "text/x-python",
   "name": "python",
   "nbconvert_exporter": "python",
   "pygments_lexer": "ipython3",
   "version": "3.7.0"
  }
 },
 "nbformat": 4,
 "nbformat_minor": 2
}
