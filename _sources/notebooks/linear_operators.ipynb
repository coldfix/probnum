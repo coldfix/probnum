{
 "cells": [
  {
   "cell_type": "markdown",
   "metadata": {},
   "source": [
    "# Linear Operators\n",
    "\n",
    "Finite dimensional linear operators allow matrix algebra without explicitly constructing a full representation. Instead it suffices to define a matrix-vector product and a shape attribute. This avoids unnecessary memory usage and can often be more convenient to derive."
   ]
  },
  {
   "cell_type": "code",
   "execution_count": 1,
   "metadata": {},
   "outputs": [],
   "source": [
    "# Make inline plots vector graphics instead of raster graphics\n",
    "from IPython.display import set_matplotlib_formats\n",
    "set_matplotlib_formats('pdf', 'svg')\n",
    "\n",
    "# Plotting\n",
    "%matplotlib inline\n",
    "import matplotlib.pyplot as plt\n",
    "#plt.rcParams['figure.figsize'] = [9.5, 6]\n",
    "plt.rcParams['font.size'] = 18 \n",
    "plt.rcParams['text.usetex'] = True\n",
    "plt.rcParams['text.latex.preamble'] = [r'\\usepackage{amsfonts}']"
   ]
  },
  {
   "cell_type": "markdown",
   "metadata": {},
   "source": [
    "## Sparsity and Operator Arithmetic"
   ]
  },
  {
   "cell_type": "code",
   "execution_count": 2,
   "metadata": {},
   "outputs": [],
   "source": [
    "import numpy as np\n",
    "import scipy.sparse\n",
    "from probnum.linalg.linear_operators import MatrixMult, Identity\n",
    "\n",
    "# Linear operator from sparse matrix\n",
    "n = 50\n",
    "mat = scipy.sparse.rand(m=n, n=n, density=0.05, random_state=42)\n",
    "A = MatrixMult(A=mat)\n",
    "\n",
    "# Linear operator arithmetic\n",
    "Id = Identity(shape=n)\n",
    "B = A ** 4 + 1.5 * Id"
   ]
  },
  {
   "cell_type": "code",
   "execution_count": 3,
   "metadata": {},
   "outputs": [
    {
     "data": {
      "image/png": "[encoded data removed]",
      "text/plain": [
       "<Figure size 432x252 with 2 Axes>"
      ]
     },
     "metadata": {
      "needs_background": "light"
     },
     "output_type": "display_data"
    }
   ],
   "source": [
    "# Plot\n",
    "matdict = {\"$A$\": A.todense(), \"$B$\": B.todense()}\n",
    "vmin = np.min([np.min(mat) for mat in list(matdict.values())])\n",
    "vmax = np.max([np.max(mat) for mat in list(matdict.values())])\n",
    "\n",
    "fig, axes = plt.subplots(nrows=1, ncols=2, figsize=(6, 3.5))\n",
    "for i, (title, mat) in enumerate(matdict.items()): \n",
    "    axes[i].imshow(mat, vmin=vmin, vmax=vmax)\n",
    "    axes[i].set_axis_off()\n",
    "    axes[i].title.set_text(title)\n",
    "fig.tight_layout()"
   ]
  },
  {
   "cell_type": "markdown",
   "metadata": {},
   "source": [
    "## The Kronecker Product"
   ]
  },
  {
   "cell_type": "code",
   "execution_count": 4,
   "metadata": {},
   "outputs": [],
   "source": [
    "from probnum.linalg.linear_operators import Kronecker, SymmetricKronecker\n",
    "\n",
    "# Kronecker Product\n",
    "A = np.array([[4, 1, 4], \n",
    "              [2, 3, 2]])\n",
    "B = np.array([[1], [4]])\n",
    "W = Kronecker(A, B)\n",
    "V = Kronecker(B, A)"
   ]
  },
  {
   "cell_type": "code",
   "execution_count": 5,
   "metadata": {},
   "outputs": [
    {
     "data": {
      "image/png": "[encoded data removed]",
      "text/plain": [
       "<Figure size 432x252 with 4 Axes>"
      ]
     },
     "metadata": {
      "needs_background": "light"
     },
     "output_type": "display_data"
    }
   ],
   "source": [
    "# Plot\n",
    "matdict = {\"$A$\": A, \"$B$\": B, \"$A \\otimes B$\": W.todense(), \"$B \\otimes A$\": V.todense()}\n",
    "vmin = np.min([np.min(mat) for mat in list(matdict.values())])\n",
    "vmax = np.max([np.max(mat) for mat in list(matdict.values())])\n",
    "\n",
    "fig, axes = plt.subplots(nrows=1, ncols=4, figsize=(6, 3.5), gridspec_kw={'width_ratios': [3, 1, 3, 3]})\n",
    "for i, (title, mat) in enumerate(matdict.items()): \n",
    "    axes[i].imshow(mat, vmin=vmin, vmax=vmax)\n",
    "    axes[i].set_axis_off()\n",
    "    axes[i].title.set_text(title)\n",
    "fig.tight_layout()"
   ]
  },
  {
   "cell_type": "code",
   "execution_count": 6,
   "metadata": {},
   "outputs": [],
   "source": [
    "# Symmetric Kronecker Product\n",
    "C = np.array([[5, 1], \n",
    "              [2, 10]])\n",
    "D = np.array([[1, 2], \n",
    "              [3, 4]])\n",
    "Ws = SymmetricKronecker(C, D)\n",
    "Vs = SymmetricKronecker(D, C)"
   ]
  },
  {
   "cell_type": "code",
   "execution_count": 7,
   "metadata": {
    "scrolled": false
   },
   "outputs": [
    {
     "data": {
      "image/png": "[encoded data removed]",
      "text/plain": [
       "<Figure size 432x252 with 4 Axes>"
      ]
     },
     "metadata": {
      "needs_background": "light"
     },
     "output_type": "display_data"
    }
   ],
   "source": [
    "# Plot\n",
    "matdict = {\"$C$\": C, \"$D$\": D, \"$C \\otimes_s D$\": Ws.todense(), \"$D \\otimes_s C$\": Vs.todense()}\n",
    "vmin = np.min([np.min(mat) for mat in list(matdict.values())])\n",
    "vmax = np.max([np.max(mat) for mat in list(matdict.values())])\n",
    "\n",
    "fig, axes = plt.subplots(nrows=1, ncols=4, figsize=(6, 3.5), gridspec_kw={'width_ratios': [2, 2, 3, 3]})\n",
    "for i, (title, mat) in enumerate(matdict.items()): \n",
    "    axes[i].imshow(mat, vmin=vmin, vmax=vmax)\n",
    "    axes[i].set_axis_off()\n",
    "    axes[i].title.set_text(title)\n",
    "fig.tight_layout()"
   ]
  },
  {
   "cell_type": "markdown",
   "metadata": {},
   "source": [
    "Note, that the symmetric Kronecker product generally does **not** have a **symmetric** matrix representation. If its arguments are symmetric, then so is their product. We also observe another property of the symmetric Kronecker product, namely that $C \\otimes_s D = D \\otimes_s C$."
   ]
  },
  {
   "cell_type": "markdown",
   "metadata": {},
   "source": [
    "## Linear Operators as Random Variables"
   ]
  },
  {
   "cell_type": "code",
   "execution_count": 8,
   "metadata": {},
   "outputs": [
    {
     "name": "stdout",
     "output_type": "stream",
     "text": [
      "<(30, 15) RandomVariable with dtype=<class 'float'>>\n"
     ]
    }
   ],
   "source": [
    "import scipy.sparse\n",
    "from probnum.linalg.linear_operators import MatrixMult, Identity\n",
    "from probnum.probability import RandomVariable, Normal\n",
    "\n",
    "# Linear operators _as_ random variables\n",
    "m = 30\n",
    "n = 15\n",
    "mat = scipy.sparse.rand(m=m, n=n, density=0.1, random_state=1).todense()\n",
    "\n",
    "opmean = MatrixMult(A=mat)\n",
    "opcov = Kronecker(A=0.1 * Identity(m), B=0.1 * Identity(n))\n",
    "\n",
    "Y = RandomVariable(distribution=Normal(mean=opmean, cov=opcov))\n",
    "print(Y)\n",
    "\n",
    "# Draw samples\n",
    "Ysamples = Y.sample(3)"
   ]
  },
  {
   "cell_type": "code",
   "execution_count": 9,
   "metadata": {},
   "outputs": [
    {
     "data": {
      "image/png": "[encoded data removed]",
      "text/plain": [
       "<Figure size 720x360 with 4 Axes>"
      ]
     },
     "metadata": {
      "needs_background": "light"
     },
     "output_type": "display_data"
    }
   ],
   "source": [
    "# Plot\n",
    "rvdict = {\"$\\mathbb{E}(Y)$\" : Y.mean().todense(), \n",
    "          \"$Y_1$\" : Ysamples[2], \"$Y_2$\" : Ysamples[1], \"$Y_3$\" : Ysamples[2]}\n",
    "vmin = np.min([np.min(mat) for mat in list(rvdict.values())])\n",
    "vmax = np.max([np.max(mat) for mat in list(rvdict.values())])\n",
    "\n",
    "fig, axes = plt.subplots(nrows=1, ncols=4, figsize=(10, 5), sharey=True)\n",
    "for i, (title, rv) in enumerate(rvdict.items()):\n",
    "    axes[i].imshow(rv, vmin=vmin, vmax=vmax)\n",
    "    axes[i].set_axis_off()\n",
    "    axes[i].title.set_text(title)\n",
    "plt.tight_layout()"
   ]
  },
  {
   "cell_type": "code",
   "execution_count": null,
   "metadata": {},
   "outputs": [],
   "source": []
  }
 ],
 "metadata": {
  "kernelspec": {
   "display_name": "probnum_kernel",
   "language": "python",
   "name": "probnum_kernel"
  },
  "language_info": {
   "codemirror_mode": {
    "name": "ipython",
    "version": 3
   },
   "file_extension": ".py",
   "mimetype": "text/x-python",
   "name": "python",
   "nbconvert_exporter": "python",
   "pygments_lexer": "ipython3",
   "version": "3.6.8"
  }
 },
 "nbformat": 4,
 "nbformat_minor": 2
}
