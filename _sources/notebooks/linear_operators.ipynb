{
 "cells": [
  {
   "cell_type": "markdown",
   "metadata": {},
   "source": [
    "# Linear Operators\n",
    "\n",
    "Finite dimensional linear operators allow matrix algebra without explicitly constructing a full representation. Instead it suffices to define a matrix-vector product and a shape attribute. This avoids unnecessary memory usage and can often be more convenient to derive."
   ]
  },
  {
   "cell_type": "code",
   "execution_count": 48,
   "metadata": {},
   "outputs": [],
   "source": [
    "# Plotting\n",
    "%matplotlib inline\n",
    "import matplotlib.pyplot as plt\n",
    "#plt.rcParams['figure.figsize'] = [9.5, 6]\n",
    "plt.rcParams['font.size'] = 18 \n",
    "plt.rcParams['text.usetex'] = True\n",
    "\n",
    "# Imports\n",
    "import numpy as np\n",
    "import scipy.sparse\n",
    "from probnum.linalg.linear_operators import MatrixMult, Identity"
   ]
  },
  {
   "cell_type": "markdown",
   "metadata": {},
   "source": [
    "## Sparsity and Operator Arithmetic"
   ]
  },
  {
   "cell_type": "code",
   "execution_count": 72,
   "metadata": {},
   "outputs": [
    {
     "data": {
      "image/png": "[encoded data removed]",
      "text/plain": [
       "<Figure size 576x360 with 2 Axes>"
      ]
     },
     "metadata": {
      "needs_background": "light"
     },
     "output_type": "display_data"
    }
   ],
   "source": [
    "# Linear operator from sparse matrix\n",
    "n = 50\n",
    "mat = scipy.sparse.rand(m=n, n=n, density=0.05)\n",
    "A = MatrixMult(A=mat)\n",
    "\n",
    "# Linear operator arithmetic\n",
    "Id = Identity(shape=n)\n",
    "B = A ** 4 + 1.5 * Id\n",
    "\n",
    "# Plot\n",
    "matdict = {\"$A$\": A.todense(), \"$B$\": B.todense()}\n",
    "vmin = np.min([np.min(mat) for mat in list(matdict.values())])\n",
    "vmax = np.max([np.max(mat) for mat in list(matdict.values())])\n",
    "\n",
    "fig, axes = plt.subplots(nrows=1, ncols=2, figsize=(8, 5))\n",
    "for i, (title, mat) in enumerate(matdict.items()): \n",
    "    axes[i].imshow(mat, vmin=vmin, vmax=vmax)\n",
    "    axes[i].set_axis_off()\n",
    "    axes[i].title.set_text(title)\n",
    "fig.tight_layout()"
   ]
  },
  {
   "cell_type": "markdown",
   "metadata": {},
   "source": [
    "## The Kronecker Product"
   ]
  },
  {
   "cell_type": "code",
   "execution_count": 83,
   "metadata": {},
   "outputs": [
    {
     "data": {
      "image/png": "[encoded data removed]",
      "text/plain": [
       "<Figure size 648x288 with 4 Axes>"
      ]
     },
     "metadata": {
      "needs_background": "light"
     },
     "output_type": "display_data"
    }
   ],
   "source": [
    "from probnum.linalg.linear_operators import Kronecker, SymmetricKronecker\n",
    "\n",
    "# Kronecker Product\n",
    "A = np.array([[4, 1, 4], \n",
    "              [2, 3, 2]])\n",
    "B = np.array([[1], [4]])\n",
    "W = Kronecker(A, B)\n",
    "V = Kronecker(B, A)\n",
    "\n",
    "# Plot\n",
    "matdict = {\"$A$\": A, \"$B$\": B, \"$A \\otimes B$\": W.todense(), \"$B \\otimes A$\": V.todense()}\n",
    "vmin = np.min([np.min(mat) for mat in list(matdict.values())])\n",
    "vmax = np.max([np.max(mat) for mat in list(matdict.values())])\n",
    "\n",
    "fig, axes = plt.subplots(nrows=1, ncols=4, figsize=(9, 4), gridspec_kw={'width_ratios': [3, 1, 3, 3]})\n",
    "for i, (title, mat) in enumerate(matdict.items()): \n",
    "    axes[i].imshow(mat, vmin=vmin, vmax=vmax)\n",
    "    axes[i].set_axis_off()\n",
    "    axes[i].title.set_text(title)\n",
    "fig.tight_layout()"
   ]
  },
  {
   "cell_type": "code",
   "execution_count": 87,
   "metadata": {
    "scrolled": false
   },
   "outputs": [
    {
     "data": {
      "image/png": "[encoded data removed]",
      "text/plain": [
       "<Figure size 648x288 with 4 Axes>"
      ]
     },
     "metadata": {
      "needs_background": "light"
     },
     "output_type": "display_data"
    }
   ],
   "source": [
    "# Symmetric Kronecker Product\n",
    "C = np.array([[5, 1], \n",
    "              [2, 10]])\n",
    "D = np.array([[1, 2], \n",
    "              [3, 4]])\n",
    "Ws = SymmetricKronecker(C, D)\n",
    "Vs = SymmetricKronecker(D, C)\n",
    "\n",
    "# Plot\n",
    "matdict = {\"$C$\": C, \"$D$\": D, \"$C \\otimes_s D$\": Ws.todense(), \"$D \\otimes_s C$\": Vs.todense()}\n",
    "vmin = np.min([np.min(mat) for mat in [C, D, Ws_dense, Vs_dense]])\n",
    "vmax = np.max([np.max(mat) for mat in [C, D, Ws_dense, Vs_dense]])\n",
    "\n",
    "fig, axes = plt.subplots(nrows=1, ncols=4, figsize=(9, 4), gridspec_kw={'width_ratios': [2, 2, 3, 3]})\n",
    "for i, (title, mat) in enumerate(matdict.items()): \n",
    "    axes[i].imshow(mat, vmin=vmin, vmax=vmax)\n",
    "    axes[i].set_axis_off()\n",
    "    axes[i].title.set_text(title)\n",
    "fig.tight_layout()"
   ]
  },
  {
   "cell_type": "markdown",
   "metadata": {},
   "source": [
    "Note, that the symmetric Kronecker product generally does **not** have a **symmetric** matrix representation. If its arguments are symmetric, then so is their product. We also observe another property of the symmetric Kronecker product, namely that $C \\otimes_s D = D \\otimes_s C$."
   ]
  },
  {
   "cell_type": "markdown",
   "metadata": {},
   "source": [
    "## Linear Operators and Linear Solvers\n",
    "\n",
    "Many methods implemented in `probnum.linalg` can also take `LinearOperators` as inputs."
   ]
  },
  {
   "cell_type": "code",
   "execution_count": null,
   "metadata": {},
   "outputs": [],
   "source": []
  }
 ],
 "metadata": {
  "kernelspec": {
   "display_name": "probnum_kernel",
   "language": "python",
   "name": "probnum_kernel"
  },
  "language_info": {
   "codemirror_mode": {
    "name": "ipython",
    "version": 3
   },
   "file_extension": ".py",
   "mimetype": "text/x-python",
   "name": "python",
   "nbconvert_exporter": "python",
   "pygments_lexer": "ipython3",
   "version": "3.7.0"
  }
 },
 "nbformat": 4,
 "nbformat_minor": 2
}
